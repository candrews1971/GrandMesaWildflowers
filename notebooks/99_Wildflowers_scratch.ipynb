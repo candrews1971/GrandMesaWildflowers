{
 "cells": [
  {
   "cell_type": "code",
   "execution_count": null,
   "metadata": {},
   "outputs": [],
   "source": [
    "import os\n",
    "from PIL import Image\n",
    "\n",
    "def convert_file_types_in_dir(folder_path, from_type=\".jpeg\", to_type=\".jpg\", remove_old=False):\n",
    "    for root, dirs, files in os.walk(folder_path):\n",
    "        for filename in files:\n",
    "            if filename.endswith(from_type):\n",
    "                # Open the image\n",
    "                img_path = os.path.join(root, filename)\n",
    "                img = Image.open(img_path)\n",
    "\n",
    "                # Save it as jpg\n",
    "                new_filename = filename.replace(from_type, to_type)\n",
    "                new_img_path = os.path.join(root, new_filename)\n",
    "                img.save(new_img_path, \"JPEG\")\n",
    "\n",
    "                # Optionally, remove the original file\n",
    "                if remove_old:\n",
    "                    os.remove(img_path)\n",
    "                print(f\"Converted {filename} to {new_filename}\")"
   ]
  },
  {
   "cell_type": "code",
   "execution_count": null,
   "metadata": {},
   "outputs": [],
   "source": [
    "\n",
    "import os\n",
    "from PIL import Image\n",
    "\n",
    "folder_path = 'data\\img'\n",
    "extensions = []\n",
    "for fldr in os.listdir(train_dir):\n",
    "    sub_folder_path = os.path.join(train_dir, fldr)\n",
    "    for filee in os.listdir(sub_folder_path):\n",
    "        file_path = os.path.join(sub_folder_path, filee)\n",
    "        print('** Path: {}  **'.format(file_path), end=\"\\r\", flush=True)\n",
    "       # im = Image.open(file_path)\n",
    "        #rgb_im = im.convert('RGB')\n",
    "        if filee.split('.')[1] not in extensions:\n",
    "            extensions.append(filee.split('.')[1])"
   ]
  }
 ],
 "metadata": {
  "language_info": {
   "name": "python"
  }
 },
 "nbformat": 4,
 "nbformat_minor": 2
}
